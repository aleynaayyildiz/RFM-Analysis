{
 "cells": [
  {
   "cell_type": "code",
   "execution_count": 1,
   "id": "3faeaa08-6d40-4cf8-acd0-4c68af67b643",
   "metadata": {},
   "outputs": [],
   "source": [
    "import pandas as pd\n",
    "import numpy as np\n",
    "df=pd.read_excel('C:/Users/asus/Desktop/crm_data_retail.xlsx')"
   ]
  },
  {
   "cell_type": "code",
   "execution_count": 2,
   "id": "e9739227-ea47-48b3-9358-7c90b1fdbc13",
   "metadata": {},
   "outputs": [
    {
     "data": {
      "text/html": [
       "<div>\n",
       "<style scoped>\n",
       "    .dataframe tbody tr th:only-of-type {\n",
       "        vertical-align: middle;\n",
       "    }\n",
       "\n",
       "    .dataframe tbody tr th {\n",
       "        vertical-align: top;\n",
       "    }\n",
       "\n",
       "    .dataframe thead th {\n",
       "        text-align: right;\n",
       "    }\n",
       "</style>\n",
       "<table border=\"1\" class=\"dataframe\">\n",
       "  <thead>\n",
       "    <tr style=\"text-align: right;\">\n",
       "      <th></th>\n",
       "      <th>ID</th>\n",
       "      <th>Invoice</th>\n",
       "      <th>StockCode</th>\n",
       "      <th>Description</th>\n",
       "      <th>Quantity</th>\n",
       "      <th>InvoiceDate</th>\n",
       "      <th>Price</th>\n",
       "      <th>Customer ID</th>\n",
       "      <th>Country</th>\n",
       "    </tr>\n",
       "  </thead>\n",
       "  <tbody>\n",
       "    <tr>\n",
       "      <th>0</th>\n",
       "      <td>114</td>\n",
       "      <td>536381</td>\n",
       "      <td>71270</td>\n",
       "      <td>PHOTO CLIP LINE</td>\n",
       "      <td>1</td>\n",
       "      <td>2010-12-01 09:41:00</td>\n",
       "      <td>1.25</td>\n",
       "      <td>15311.0</td>\n",
       "      <td>United Kingdom</td>\n",
       "    </tr>\n",
       "    <tr>\n",
       "      <th>1</th>\n",
       "      <td>115</td>\n",
       "      <td>536381</td>\n",
       "      <td>22262</td>\n",
       "      <td>FELT EGG COSY CHICKEN</td>\n",
       "      <td>1</td>\n",
       "      <td>2010-12-01 09:41:00</td>\n",
       "      <td>0.85</td>\n",
       "      <td>15311.0</td>\n",
       "      <td>United Kingdom</td>\n",
       "    </tr>\n",
       "    <tr>\n",
       "      <th>2</th>\n",
       "      <td>116</td>\n",
       "      <td>536381</td>\n",
       "      <td>22637</td>\n",
       "      <td>PIGGY BANK RETROSPOT</td>\n",
       "      <td>1</td>\n",
       "      <td>2010-12-01 09:41:00</td>\n",
       "      <td>2.55</td>\n",
       "      <td>15311.0</td>\n",
       "      <td>United Kingdom</td>\n",
       "    </tr>\n",
       "    <tr>\n",
       "      <th>3</th>\n",
       "      <td>119</td>\n",
       "      <td>536381</td>\n",
       "      <td>21166</td>\n",
       "      <td>COOK WITH WINE METAL SIGN</td>\n",
       "      <td>1</td>\n",
       "      <td>2010-12-01 09:41:00</td>\n",
       "      <td>1.95</td>\n",
       "      <td>15311.0</td>\n",
       "      <td>United Kingdom</td>\n",
       "    </tr>\n",
       "    <tr>\n",
       "      <th>4</th>\n",
       "      <td>121</td>\n",
       "      <td>536381</td>\n",
       "      <td>37444A</td>\n",
       "      <td>YELLOW BREAKFAST CUP AND SAUCER</td>\n",
       "      <td>1</td>\n",
       "      <td>2010-12-01 09:41:00</td>\n",
       "      <td>2.95</td>\n",
       "      <td>15311.0</td>\n",
       "      <td>United Kingdom</td>\n",
       "    </tr>\n",
       "  </tbody>\n",
       "</table>\n",
       "</div>"
      ],
      "text/plain": [
       "    ID  Invoice StockCode                      Description  Quantity  \\\n",
       "0  114   536381     71270                  PHOTO CLIP LINE         1   \n",
       "1  115   536381     22262            FELT EGG COSY CHICKEN         1   \n",
       "2  116   536381     22637            PIGGY BANK RETROSPOT          1   \n",
       "3  119   536381     21166       COOK WITH WINE METAL SIGN          1   \n",
       "4  121   536381    37444A  YELLOW BREAKFAST CUP AND SAUCER         1   \n",
       "\n",
       "          InvoiceDate  Price  Customer ID         Country  \n",
       "0 2010-12-01 09:41:00   1.25      15311.0  United Kingdom  \n",
       "1 2010-12-01 09:41:00   0.85      15311.0  United Kingdom  \n",
       "2 2010-12-01 09:41:00   2.55      15311.0  United Kingdom  \n",
       "3 2010-12-01 09:41:00   1.95      15311.0  United Kingdom  \n",
       "4 2010-12-01 09:41:00   2.95      15311.0  United Kingdom  "
      ]
     },
     "execution_count": 2,
     "metadata": {},
     "output_type": "execute_result"
    }
   ],
   "source": [
    "df.head()"
   ]
  },
  {
   "cell_type": "code",
   "execution_count": 3,
   "id": "86519fcc-dca6-4cb3-af4a-a3bb86c6a025",
   "metadata": {},
   "outputs": [
    {
     "data": {
      "text/plain": [
       "(531283, 9)"
      ]
     },
     "execution_count": 3,
     "metadata": {},
     "output_type": "execute_result"
    }
   ],
   "source": [
    "df.shape"
   ]
  },
  {
   "cell_type": "code",
   "execution_count": 4,
   "id": "37d5fbdf-7234-485a-bbd7-6282e56a3793",
   "metadata": {},
   "outputs": [
    {
     "data": {
      "text/html": [
       "<div>\n",
       "<style scoped>\n",
       "    .dataframe tbody tr th:only-of-type {\n",
       "        vertical-align: middle;\n",
       "    }\n",
       "\n",
       "    .dataframe tbody tr th {\n",
       "        vertical-align: top;\n",
       "    }\n",
       "\n",
       "    .dataframe thead th {\n",
       "        text-align: right;\n",
       "    }\n",
       "</style>\n",
       "<table border=\"1\" class=\"dataframe\">\n",
       "  <thead>\n",
       "    <tr style=\"text-align: right;\">\n",
       "      <th></th>\n",
       "      <th>count</th>\n",
       "      <th>mean</th>\n",
       "      <th>min</th>\n",
       "      <th>25%</th>\n",
       "      <th>50%</th>\n",
       "      <th>75%</th>\n",
       "      <th>max</th>\n",
       "      <th>std</th>\n",
       "    </tr>\n",
       "  </thead>\n",
       "  <tbody>\n",
       "    <tr>\n",
       "      <th>ID</th>\n",
       "      <td>531283.0</td>\n",
       "      <td>271255.552028</td>\n",
       "      <td>1.0</td>\n",
       "      <td>135570.5</td>\n",
       "      <td>271427.0</td>\n",
       "      <td>407074.5</td>\n",
       "      <td>541910.0</td>\n",
       "      <td>156563.907547</td>\n",
       "    </tr>\n",
       "    <tr>\n",
       "      <th>Invoice</th>\n",
       "      <td>531283.0</td>\n",
       "      <td>559971.926875</td>\n",
       "      <td>536365.0</td>\n",
       "      <td>547903.0</td>\n",
       "      <td>560693.0</td>\n",
       "      <td>571846.0</td>\n",
       "      <td>581587.0</td>\n",
       "      <td>13430.761822</td>\n",
       "    </tr>\n",
       "    <tr>\n",
       "      <th>Quantity</th>\n",
       "      <td>531283.0</td>\n",
       "      <td>10.655299</td>\n",
       "      <td>1.0</td>\n",
       "      <td>1.0</td>\n",
       "      <td>3.0</td>\n",
       "      <td>10.0</td>\n",
       "      <td>80995.0</td>\n",
       "      <td>156.830617</td>\n",
       "    </tr>\n",
       "    <tr>\n",
       "      <th>InvoiceDate</th>\n",
       "      <td>531283</td>\n",
       "      <td>2011-07-04 18:15:52.516756224</td>\n",
       "      <td>2010-12-01 08:26:00</td>\n",
       "      <td>2011-03-28 11:59:00</td>\n",
       "      <td>2011-07-20 12:01:00</td>\n",
       "      <td>2011-10-19 12:35:00</td>\n",
       "      <td>2011-12-09 12:50:00</td>\n",
       "      <td>NaN</td>\n",
       "    </tr>\n",
       "    <tr>\n",
       "      <th>Price</th>\n",
       "      <td>531283.0</td>\n",
       "      <td>3.878166</td>\n",
       "      <td>0.0</td>\n",
       "      <td>1.25</td>\n",
       "      <td>2.08</td>\n",
       "      <td>4.13</td>\n",
       "      <td>13541.33</td>\n",
       "      <td>32.510638</td>\n",
       "    </tr>\n",
       "    <tr>\n",
       "      <th>Customer ID</th>\n",
       "      <td>397925.0</td>\n",
       "      <td>15294.308601</td>\n",
       "      <td>12346.0</td>\n",
       "      <td>13969.0</td>\n",
       "      <td>15159.0</td>\n",
       "      <td>16795.0</td>\n",
       "      <td>18287.0</td>\n",
       "      <td>1713.172738</td>\n",
       "    </tr>\n",
       "  </tbody>\n",
       "</table>\n",
       "</div>"
      ],
      "text/plain": [
       "                count                           mean                  min  \\\n",
       "ID           531283.0                  271255.552028                  1.0   \n",
       "Invoice      531283.0                  559971.926875             536365.0   \n",
       "Quantity     531283.0                      10.655299                  1.0   \n",
       "InvoiceDate    531283  2011-07-04 18:15:52.516756224  2010-12-01 08:26:00   \n",
       "Price        531283.0                       3.878166                  0.0   \n",
       "Customer ID  397925.0                   15294.308601              12346.0   \n",
       "\n",
       "                             25%                  50%                  75%  \\\n",
       "ID                      135570.5             271427.0             407074.5   \n",
       "Invoice                 547903.0             560693.0             571846.0   \n",
       "Quantity                     1.0                  3.0                 10.0   \n",
       "InvoiceDate  2011-03-28 11:59:00  2011-07-20 12:01:00  2011-10-19 12:35:00   \n",
       "Price                       1.25                 2.08                 4.13   \n",
       "Customer ID              13969.0              15159.0              16795.0   \n",
       "\n",
       "                             max            std  \n",
       "ID                      541910.0  156563.907547  \n",
       "Invoice                 581587.0   13430.761822  \n",
       "Quantity                 80995.0     156.830617  \n",
       "InvoiceDate  2011-12-09 12:50:00            NaN  \n",
       "Price                   13541.33      32.510638  \n",
       "Customer ID              18287.0    1713.172738  "
      ]
     },
     "execution_count": 4,
     "metadata": {},
     "output_type": "execute_result"
    }
   ],
   "source": [
    "df.describe().T"
   ]
  },
  {
   "cell_type": "code",
   "execution_count": 5,
   "id": "e02aeb2d-0fe9-496e-a324-81f617a39087",
   "metadata": {},
   "outputs": [
    {
     "data": {
      "text/plain": [
       "True"
      ]
     },
     "execution_count": 5,
     "metadata": {},
     "output_type": "execute_result"
    }
   ],
   "source": [
    "df.isnull().values.any()"
   ]
  },
  {
   "cell_type": "code",
   "execution_count": 6,
   "id": "d6938b3c-f91a-4392-bf10-fbdcf88d1549",
   "metadata": {},
   "outputs": [
    {
     "data": {
      "text/html": [
       "<div>\n",
       "<style scoped>\n",
       "    .dataframe tbody tr th:only-of-type {\n",
       "        vertical-align: middle;\n",
       "    }\n",
       "\n",
       "    .dataframe tbody tr th {\n",
       "        vertical-align: top;\n",
       "    }\n",
       "\n",
       "    .dataframe thead th {\n",
       "        text-align: right;\n",
       "    }\n",
       "</style>\n",
       "<table border=\"1\" class=\"dataframe\">\n",
       "  <thead>\n",
       "    <tr style=\"text-align: right;\">\n",
       "      <th></th>\n",
       "      <th>ID</th>\n",
       "      <th>Invoice</th>\n",
       "      <th>StockCode</th>\n",
       "      <th>Description</th>\n",
       "      <th>Quantity</th>\n",
       "      <th>InvoiceDate</th>\n",
       "      <th>Price</th>\n",
       "      <th>Customer ID</th>\n",
       "      <th>Country</th>\n",
       "    </tr>\n",
       "  </thead>\n",
       "  <tbody>\n",
       "    <tr>\n",
       "      <th>0</th>\n",
       "      <td>False</td>\n",
       "      <td>False</td>\n",
       "      <td>False</td>\n",
       "      <td>False</td>\n",
       "      <td>False</td>\n",
       "      <td>False</td>\n",
       "      <td>False</td>\n",
       "      <td>False</td>\n",
       "      <td>False</td>\n",
       "    </tr>\n",
       "    <tr>\n",
       "      <th>1</th>\n",
       "      <td>False</td>\n",
       "      <td>False</td>\n",
       "      <td>False</td>\n",
       "      <td>False</td>\n",
       "      <td>False</td>\n",
       "      <td>False</td>\n",
       "      <td>False</td>\n",
       "      <td>False</td>\n",
       "      <td>False</td>\n",
       "    </tr>\n",
       "    <tr>\n",
       "      <th>2</th>\n",
       "      <td>False</td>\n",
       "      <td>False</td>\n",
       "      <td>False</td>\n",
       "      <td>False</td>\n",
       "      <td>False</td>\n",
       "      <td>False</td>\n",
       "      <td>False</td>\n",
       "      <td>False</td>\n",
       "      <td>False</td>\n",
       "    </tr>\n",
       "    <tr>\n",
       "      <th>3</th>\n",
       "      <td>False</td>\n",
       "      <td>False</td>\n",
       "      <td>False</td>\n",
       "      <td>False</td>\n",
       "      <td>False</td>\n",
       "      <td>False</td>\n",
       "      <td>False</td>\n",
       "      <td>False</td>\n",
       "      <td>False</td>\n",
       "    </tr>\n",
       "    <tr>\n",
       "      <th>4</th>\n",
       "      <td>False</td>\n",
       "      <td>False</td>\n",
       "      <td>False</td>\n",
       "      <td>False</td>\n",
       "      <td>False</td>\n",
       "      <td>False</td>\n",
       "      <td>False</td>\n",
       "      <td>False</td>\n",
       "      <td>False</td>\n",
       "    </tr>\n",
       "    <tr>\n",
       "      <th>...</th>\n",
       "      <td>...</td>\n",
       "      <td>...</td>\n",
       "      <td>...</td>\n",
       "      <td>...</td>\n",
       "      <td>...</td>\n",
       "      <td>...</td>\n",
       "      <td>...</td>\n",
       "      <td>...</td>\n",
       "      <td>...</td>\n",
       "    </tr>\n",
       "    <tr>\n",
       "      <th>531278</th>\n",
       "      <td>False</td>\n",
       "      <td>False</td>\n",
       "      <td>False</td>\n",
       "      <td>False</td>\n",
       "      <td>False</td>\n",
       "      <td>False</td>\n",
       "      <td>False</td>\n",
       "      <td>False</td>\n",
       "      <td>False</td>\n",
       "    </tr>\n",
       "    <tr>\n",
       "      <th>531279</th>\n",
       "      <td>False</td>\n",
       "      <td>False</td>\n",
       "      <td>False</td>\n",
       "      <td>True</td>\n",
       "      <td>False</td>\n",
       "      <td>False</td>\n",
       "      <td>False</td>\n",
       "      <td>True</td>\n",
       "      <td>False</td>\n",
       "    </tr>\n",
       "    <tr>\n",
       "      <th>531280</th>\n",
       "      <td>False</td>\n",
       "      <td>False</td>\n",
       "      <td>False</td>\n",
       "      <td>False</td>\n",
       "      <td>False</td>\n",
       "      <td>False</td>\n",
       "      <td>False</td>\n",
       "      <td>False</td>\n",
       "      <td>False</td>\n",
       "    </tr>\n",
       "    <tr>\n",
       "      <th>531281</th>\n",
       "      <td>False</td>\n",
       "      <td>False</td>\n",
       "      <td>False</td>\n",
       "      <td>False</td>\n",
       "      <td>False</td>\n",
       "      <td>False</td>\n",
       "      <td>False</td>\n",
       "      <td>False</td>\n",
       "      <td>False</td>\n",
       "    </tr>\n",
       "    <tr>\n",
       "      <th>531282</th>\n",
       "      <td>False</td>\n",
       "      <td>False</td>\n",
       "      <td>False</td>\n",
       "      <td>False</td>\n",
       "      <td>False</td>\n",
       "      <td>False</td>\n",
       "      <td>False</td>\n",
       "      <td>False</td>\n",
       "      <td>False</td>\n",
       "    </tr>\n",
       "  </tbody>\n",
       "</table>\n",
       "<p>531283 rows × 9 columns</p>\n",
       "</div>"
      ],
      "text/plain": [
       "           ID  Invoice  StockCode  Description  Quantity  InvoiceDate  Price  \\\n",
       "0       False    False      False        False     False        False  False   \n",
       "1       False    False      False        False     False        False  False   \n",
       "2       False    False      False        False     False        False  False   \n",
       "3       False    False      False        False     False        False  False   \n",
       "4       False    False      False        False     False        False  False   \n",
       "...       ...      ...        ...          ...       ...          ...    ...   \n",
       "531278  False    False      False        False     False        False  False   \n",
       "531279  False    False      False         True     False        False  False   \n",
       "531280  False    False      False        False     False        False  False   \n",
       "531281  False    False      False        False     False        False  False   \n",
       "531282  False    False      False        False     False        False  False   \n",
       "\n",
       "        Customer ID  Country  \n",
       "0             False    False  \n",
       "1             False    False  \n",
       "2             False    False  \n",
       "3             False    False  \n",
       "4             False    False  \n",
       "...             ...      ...  \n",
       "531278        False    False  \n",
       "531279         True    False  \n",
       "531280        False    False  \n",
       "531281        False    False  \n",
       "531282        False    False  \n",
       "\n",
       "[531283 rows x 9 columns]"
      ]
     },
     "execution_count": 6,
     "metadata": {},
     "output_type": "execute_result"
    }
   ],
   "source": [
    "df.isnull()"
   ]
  },
  {
   "cell_type": "code",
   "execution_count": 7,
   "id": "75a39525-3517-459a-94f6-bcd8da2b9fe9",
   "metadata": {},
   "outputs": [
    {
     "data": {
      "text/plain": [
       "ID                  0\n",
       "Invoice             0\n",
       "StockCode           0\n",
       "Description       592\n",
       "Quantity            0\n",
       "InvoiceDate         0\n",
       "Price               0\n",
       "Customer ID    133358\n",
       "Country             0\n",
       "dtype: int64"
      ]
     },
     "execution_count": 7,
     "metadata": {},
     "output_type": "execute_result"
    }
   ],
   "source": [
    "df.isnull().sum()"
   ]
  },
  {
   "cell_type": "code",
   "execution_count": 8,
   "id": "1c66edac-170a-4192-a9e5-a47923d0d36e",
   "metadata": {},
   "outputs": [
    {
     "data": {
      "text/plain": [
       "Index(['ID', 'Invoice', 'StockCode', 'Description', 'Quantity', 'InvoiceDate',\n",
       "       'Price', 'Customer ID', 'Country'],\n",
       "      dtype='object')"
      ]
     },
     "execution_count": 8,
     "metadata": {},
     "output_type": "execute_result"
    }
   ],
   "source": [
    "df.columns"
   ]
  },
  {
   "cell_type": "code",
   "execution_count": 9,
   "id": "1dafc852-90cf-4228-b108-57b505234ede",
   "metadata": {},
   "outputs": [],
   "source": [
    "df_grouped=df.groupby('Invoice').agg({'ID':'count'})"
   ]
  },
  {
   "cell_type": "code",
   "execution_count": null,
   "id": "59333565-2852-4aea-9426-8dc9e132f42a",
   "metadata": {},
   "outputs": [],
   "source": []
  },
  {
   "cell_type": "code",
   "execution_count": 10,
   "id": "affc2d12-3c31-4f6b-b6d4-09ed0caf8170",
   "metadata": {},
   "outputs": [],
   "source": [
    "sepetsayısı=df['Invoice'].nunique()"
   ]
  },
  {
   "cell_type": "code",
   "execution_count": 11,
   "id": "5eff6f93-41f7-4509-a8d8-d41fe9975881",
   "metadata": {},
   "outputs": [],
   "source": [
    "sepettekiortürünsayısı=df_grouped.median()"
   ]
  },
  {
   "cell_type": "code",
   "execution_count": 12,
   "id": "b69b63cb-5735-4522-a4d9-9c0eb686555a",
   "metadata": {},
   "outputs": [
    {
     "name": "stdout",
     "output_type": "stream",
     "text": [
      "                                      ID\n",
      "Description                             \n",
      "WHITE HANGING HEART T-LIGHT HOLDER  2327\n",
      "JUMBO BAG RED RETROSPOT             2115\n",
      "REGENCY CAKESTAND 3 TIER            2019\n",
      "PARTY BUNTING                       1707\n",
      "LUNCH BAG RED RETROSPOT             1594\n",
      "...                                  ...\n",
      "PINK FEATHER CHRISTMAS DECORATION      1\n",
      "PINK DOLLY HAIR CLIPS                  1\n",
      "WHITE DOVE HONEYCOMB PAPER GARLAND     1\n",
      "GARLAND, MAGIC GARDEN 1.8M             1\n",
      "wrongly sold (22719) barcode           1\n",
      "\n",
      "[4076 rows x 1 columns]\n"
     ]
    }
   ],
   "source": [
    "df_grouped2=df.groupby('Description').agg({'ID': 'count'}).sort_values(by='ID', ascending=False)\n",
    "print(df_grouped2)"
   ]
  },
  {
   "cell_type": "code",
   "execution_count": 13,
   "id": "94223909-c248-4406-a534-7807a6159743",
   "metadata": {},
   "outputs": [
    {
     "name": "stderr",
     "output_type": "stream",
     "text": [
      "C:\\Users\\asus\\AppData\\Local\\Temp\\ipykernel_23740\\2421011385.py:2: FutureWarning: DataFrame.applymap has been deprecated. Use DataFrame.map instead.\n",
      "  sepetteki_yüzdelik_dilimi=sepetteki_yüzdelik_dilimi.applymap(lambda x: f\"{x:.2f}%\")\n"
     ]
    },
    {
     "data": {
      "text/html": [
       "<div>\n",
       "<style scoped>\n",
       "    .dataframe tbody tr th:only-of-type {\n",
       "        vertical-align: middle;\n",
       "    }\n",
       "\n",
       "    .dataframe tbody tr th {\n",
       "        vertical-align: top;\n",
       "    }\n",
       "\n",
       "    .dataframe thead th {\n",
       "        text-align: right;\n",
       "    }\n",
       "</style>\n",
       "<table border=\"1\" class=\"dataframe\">\n",
       "  <thead>\n",
       "    <tr style=\"text-align: right;\">\n",
       "      <th></th>\n",
       "      <th>ID</th>\n",
       "    </tr>\n",
       "    <tr>\n",
       "      <th>Description</th>\n",
       "      <th></th>\n",
       "    </tr>\n",
       "  </thead>\n",
       "  <tbody>\n",
       "    <tr>\n",
       "      <th>WHITE HANGING HEART T-LIGHT HOLDER</th>\n",
       "      <td>11.23%</td>\n",
       "    </tr>\n",
       "    <tr>\n",
       "      <th>JUMBO BAG RED RETROSPOT</th>\n",
       "      <td>10.21%</td>\n",
       "    </tr>\n",
       "    <tr>\n",
       "      <th>REGENCY CAKESTAND 3 TIER</th>\n",
       "      <td>9.74%</td>\n",
       "    </tr>\n",
       "    <tr>\n",
       "      <th>PARTY BUNTING</th>\n",
       "      <td>8.24%</td>\n",
       "    </tr>\n",
       "    <tr>\n",
       "      <th>LUNCH BAG RED RETROSPOT</th>\n",
       "      <td>7.69%</td>\n",
       "    </tr>\n",
       "    <tr>\n",
       "      <th>ASSORTED COLOUR BIRD ORNAMENT</th>\n",
       "      <td>7.18%</td>\n",
       "    </tr>\n",
       "    <tr>\n",
       "      <th>SET OF 3 CAKE TINS PANTRY DESIGN</th>\n",
       "      <td>6.75%</td>\n",
       "    </tr>\n",
       "    <tr>\n",
       "      <th>PACK OF 72 RETROSPOT CAKE CASES</th>\n",
       "      <td>6.61%</td>\n",
       "    </tr>\n",
       "    <tr>\n",
       "      <th>LUNCH BAG  BLACK SKULL.</th>\n",
       "      <td>6.41%</td>\n",
       "    </tr>\n",
       "    <tr>\n",
       "      <th>NATURAL SLATE HEART CHALKBOARD</th>\n",
       "      <td>6.09%</td>\n",
       "    </tr>\n",
       "    <tr>\n",
       "      <th>JUMBO BAG PINK POLKADOT</th>\n",
       "      <td>5.97%</td>\n",
       "    </tr>\n",
       "    <tr>\n",
       "      <th>HEART OF WICKER SMALL</th>\n",
       "      <td>5.92%</td>\n",
       "    </tr>\n",
       "    <tr>\n",
       "      <th>PAPER CHAIN KIT 50'S CHRISTMAS</th>\n",
       "      <td>5.79%</td>\n",
       "    </tr>\n",
       "    <tr>\n",
       "      <th>JUMBO STORAGE BAG SUKI</th>\n",
       "      <td>5.78%</td>\n",
       "    </tr>\n",
       "    <tr>\n",
       "      <th>JUMBO SHOPPER VINTAGE RED PAISLEY</th>\n",
       "      <td>5.74%</td>\n",
       "    </tr>\n",
       "    <tr>\n",
       "      <th>LUNCH BAG SPACEBOY DESIGN</th>\n",
       "      <td>5.69%</td>\n",
       "    </tr>\n",
       "    <tr>\n",
       "      <th>LUNCH BAG CARS BLUE</th>\n",
       "      <td>5.66%</td>\n",
       "    </tr>\n",
       "    <tr>\n",
       "      <th>JAM MAKING SET PRINTED</th>\n",
       "      <td>5.64%</td>\n",
       "    </tr>\n",
       "    <tr>\n",
       "      <th>SPOTTY BUNTING</th>\n",
       "      <td>5.60%</td>\n",
       "    </tr>\n",
       "    <tr>\n",
       "      <th>JAM MAKING SET WITH JARS</th>\n",
       "      <td>5.51%</td>\n",
       "    </tr>\n",
       "  </tbody>\n",
       "</table>\n",
       "</div>"
      ],
      "text/plain": [
       "                                        ID\n",
       "Description                               \n",
       "WHITE HANGING HEART T-LIGHT HOLDER  11.23%\n",
       "JUMBO BAG RED RETROSPOT             10.21%\n",
       "REGENCY CAKESTAND 3 TIER             9.74%\n",
       "PARTY BUNTING                        8.24%\n",
       "LUNCH BAG RED RETROSPOT              7.69%\n",
       "ASSORTED COLOUR BIRD ORNAMENT        7.18%\n",
       "SET OF 3 CAKE TINS PANTRY DESIGN     6.75%\n",
       "PACK OF 72 RETROSPOT CAKE CASES      6.61%\n",
       "LUNCH BAG  BLACK SKULL.              6.41%\n",
       "NATURAL SLATE HEART CHALKBOARD       6.09%\n",
       "JUMBO BAG PINK POLKADOT              5.97%\n",
       "HEART OF WICKER SMALL                5.92%\n",
       "PAPER CHAIN KIT 50'S CHRISTMAS       5.79%\n",
       "JUMBO STORAGE BAG SUKI               5.78%\n",
       "JUMBO SHOPPER VINTAGE RED PAISLEY    5.74%\n",
       "LUNCH BAG SPACEBOY DESIGN            5.69%\n",
       "LUNCH BAG CARS BLUE                  5.66%\n",
       "JAM MAKING SET PRINTED               5.64%\n",
       "SPOTTY BUNTING                       5.60%\n",
       "JAM MAKING SET WITH JARS             5.51%"
      ]
     },
     "execution_count": 13,
     "metadata": {},
     "output_type": "execute_result"
    }
   ],
   "source": [
    "sepetteki_yüzdelik_dilimi = (df_grouped2 / sepetsayısı) * 100\n",
    "sepetteki_yüzdelik_dilimi=sepetteki_yüzdelik_dilimi.applymap(lambda x: f\"{x:.2f}%\")\n",
    "sepetteki_yüzdelik_dilimi.head(20)"
   ]
  },
  {
   "cell_type": "code",
   "execution_count": 14,
   "id": "33dc2c0f-6cf8-4483-976f-b370e5122514",
   "metadata": {},
   "outputs": [
    {
     "name": "stdout",
     "output_type": "stream",
     "text": [
      "[536464 536528 536863 ... 579271 561901 563590]\n",
      "1133\n"
     ]
    }
   ],
   "source": [
    "# Hedef ürün adı\n",
    "hedef_ürün = \"JAM MAKING SET WITH JARS\" \n",
    "\n",
    "# DataFrame'i filtreleme: 'Description' kolonunda hedef ürünü içeren satırları seçme\n",
    "filtered_df = df[df['Description'].str.contains(hedef_ürün, case=False, na=False)]\n",
    "\n",
    "# Sepet numaralarını görmek için 'Invoice' kolonunu seçme\n",
    "hedef_sepetler = filtered_df['Invoice'].unique()\n",
    "\n",
    "# Sepet numaralarını yazdırma\n",
    "print(hedef_sepetler)\n",
    "print(len(hedef_sepetler))"
   ]
  },
  {
   "cell_type": "code",
   "execution_count": 15,
   "id": "3224b838-fb02-47bb-80aa-52415238b67b",
   "metadata": {},
   "outputs": [
    {
     "name": "stdout",
     "output_type": "stream",
     "text": [
      "        Invoice hedef_sepet\n",
      "0        536381            \n",
      "1        536381            \n",
      "2        536381            \n",
      "3        536381            \n",
      "4        536381            \n",
      "...         ...         ...\n",
      "531278   573008      target\n",
      "531279   542504            \n",
      "531280   578841            \n",
      "531281   541431            \n",
      "531282   581483            \n",
      "\n",
      "[531283 rows x 2 columns]\n"
     ]
    }
   ],
   "source": [
    "df['hedef_sepet'] = df['Invoice'].apply(lambda x: 'target' if x in hedef_sepetler else '')\n",
    "\n",
    "print(df[['Invoice', 'hedef_sepet']])"
   ]
  },
  {
   "cell_type": "code",
   "execution_count": 16,
   "id": "23ab527e-fdd7-4ea3-9f66-c9d3d93996fd",
   "metadata": {},
   "outputs": [
    {
     "name": "stdout",
     "output_type": "stream",
     "text": [
      "            ID  Invoice StockCode                        Description  \\\n",
      "13         169   536385     22783   SET 3 WICKER OVAL BASKETS W LIDS   \n",
      "132        786   536464    90059C  DIAMANTE HAIR GRIP PACK/2 MONTANA   \n",
      "133        787   536464    90200C           BLUE SWEETHEART BRACELET   \n",
      "134        789   536464    90200A         PURPLE SWEETHEART BRACELET   \n",
      "135        790   536464     22386            JUMBO BAG PINK POLKADOT   \n",
      "...        ...      ...       ...                                ...   \n",
      "531036  304654   563590     22969       HOMEMADE JAM SCENTED CANDLES   \n",
      "531117  111528   545748     22492            MINI PAINT SET VINTAGE    \n",
      "531231  534953   581175     23084                 RABBIT NIGHT LIGHT   \n",
      "531236  223447   556484     22920                  HERB MARKER BASIL   \n",
      "531278  421633   573008     84077  WORLD WAR 2 GLIDERS ASSTD DESIGNS   \n",
      "\n",
      "        Quantity         InvoiceDate  Price  Customer ID         Country  \\\n",
      "13             1 2010-12-01 09:56:00  19.95      17420.0  United Kingdom   \n",
      "132            1 2010-12-01 12:23:00   1.65      17968.0  United Kingdom   \n",
      "133            1 2010-12-01 12:23:00   4.25      17968.0  United Kingdom   \n",
      "134            1 2010-12-01 12:23:00   4.25      17968.0  United Kingdom   \n",
      "135            1 2010-12-01 12:23:00   1.95      17968.0  United Kingdom   \n",
      "...          ...                 ...    ...          ...             ...   \n",
      "531036       696 2011-08-17 20:02:00   1.70      17450.0  United Kingdom   \n",
      "531117       864 2011-03-07 11:52:00   0.55      17381.0  United Kingdom   \n",
      "531231      1440 2011-12-07 15:16:00   1.79      14646.0     Netherlands   \n",
      "531236      1515 2011-06-12 13:17:00   0.55      16938.0  United Kingdom   \n",
      "531278      4800 2011-10-27 12:26:00   0.21      12901.0  United Kingdom   \n",
      "\n",
      "       hedef_sepet  \n",
      "13          target  \n",
      "132         target  \n",
      "133         target  \n",
      "134         target  \n",
      "135         target  \n",
      "...            ...  \n",
      "531036      target  \n",
      "531117      target  \n",
      "531231      target  \n",
      "531236      target  \n",
      "531278      target  \n",
      "\n",
      "[106027 rows x 10 columns]\n"
     ]
    }
   ],
   "source": [
    "df_copy = df[df['hedef_sepet'] == 'target']\n",
    "\n",
    "\n",
    "print(df_copy)"
   ]
  },
  {
   "cell_type": "code",
   "execution_count": 17,
   "id": "e076b7c3-bb2e-4766-a38c-3db7452f82c1",
   "metadata": {},
   "outputs": [
    {
     "name": "stdout",
     "output_type": "stream",
     "text": [
      "                             Description  count\n",
      "1508            JAM MAKING SET WITH JARS   1142\n",
      "1507              JAM MAKING SET PRINTED    476\n",
      "2696   SET OF 3 CAKE TINS PANTRY DESIGN     382\n",
      "2346     RECIPE BOX PANTRY YELLOW DESIGN    339\n",
      "2743        SET OF 4 PANTRY JELLY MOULDS    318\n",
      "...                                  ...    ...\n",
      "2185     PINK HANGING GINGHAM EASTER HEN      1\n",
      "3312        WHITE BIRD GARDEN DESIGN MUG      1\n",
      "675           CHRYSANTHEMUM POCKET BOOK       1\n",
      "3314  WHITE CANDYSTUFT ARTIFICIAL FLOWER      1\n",
      "2586  SET 10 CARD CHRISTMAS STAMPS 16963      1\n",
      "\n",
      "[3478 rows x 2 columns]\n"
     ]
    }
   ],
   "source": [
    "pivot_df = pd.pivot_table(df_copy, index='Description', aggfunc='size').reset_index(name='count')\n",
    "pivot_df = pivot_df.sort_values(by='count', ascending=False)  \n",
    "print(pivot_df)#jam making set with jars içeren sepetler.\n"
   ]
  },
  {
   "cell_type": "code",
   "execution_count": 18,
   "id": "fc4f848e-b1e1-4137-95a5-c3db9edeed8b",
   "metadata": {},
   "outputs": [
    {
     "name": "stdout",
     "output_type": "stream",
     "text": [
      "                             Description  count support\n",
      "0               JAM MAKING SET WITH JARS   1142   5.51%\n",
      "1                 JAM MAKING SET PRINTED    476   5.64%\n",
      "2      SET OF 3 CAKE TINS PANTRY DESIGN     382   6.75%\n",
      "3        RECIPE BOX PANTRY YELLOW DESIGN    339   5.47%\n",
      "4           SET OF 4 PANTRY JELLY MOULDS    318   5.32%\n",
      "...                                  ...    ...     ...\n",
      "3473     PINK HANGING GINGHAM EASTER HEN      1   0.02%\n",
      "3474        WHITE BIRD GARDEN DESIGN MUG      1   0.01%\n",
      "3475          CHRYSANTHEMUM POCKET BOOK       1   0.10%\n",
      "3476  WHITE CANDYSTUFT ARTIFICIAL FLOWER      1   0.10%\n",
      "3477  SET 10 CARD CHRISTMAS STAMPS 16963      1   0.00%\n",
      "\n",
      "[3478 rows x 3 columns]\n"
     ]
    }
   ],
   "source": [
    "#apriori analizi\n",
    "\n",
    "merged_df = pd.merge(pivot_df, sepetteki_yüzdelik_dilimi , on='Description', how='left')\n",
    "merged_df = merged_df.rename(columns={'ID': 'support'})\n",
    "\n",
    "\n",
    "print(merged_df)\n"
   ]
  },
  {
   "cell_type": "code",
   "execution_count": 19,
   "id": "d3a31307-4a97-4f80-b273-92cf181c122f",
   "metadata": {},
   "outputs": [
    {
     "name": "stdout",
     "output_type": "stream",
     "text": [
      "                             Description  count support  confidence\n",
      "0               JAM MAKING SET WITH JARS   1142   5.51%  100.000000\n",
      "1                 JAM MAKING SET PRINTED    476   5.64%   41.681261\n",
      "2      SET OF 3 CAKE TINS PANTRY DESIGN     382   6.75%   33.450088\n",
      "3        RECIPE BOX PANTRY YELLOW DESIGN    339   5.47%   29.684764\n",
      "4           SET OF 4 PANTRY JELLY MOULDS    318   5.32%   27.845884\n",
      "...                                  ...    ...     ...         ...\n",
      "3473     PINK HANGING GINGHAM EASTER HEN      1   0.02%    0.087566\n",
      "3474        WHITE BIRD GARDEN DESIGN MUG      1   0.01%    0.087566\n",
      "3475          CHRYSANTHEMUM POCKET BOOK       1   0.10%    0.087566\n",
      "3476  WHITE CANDYSTUFT ARTIFICIAL FLOWER      1   0.10%    0.087566\n",
      "3477  SET 10 CARD CHRISTMAS STAMPS 16963      1   0.00%    0.087566\n",
      "\n",
      "[3478 rows x 4 columns]\n"
     ]
    }
   ],
   "source": [
    "merged_df['confidence'] = (merged_df['count'] / 1142) * 100\n",
    "\n",
    "\n",
    "print(merged_df)\n"
   ]
  },
  {
   "cell_type": "code",
   "execution_count": 20,
   "id": "05ed69cd-3654-40a1-b3f4-8626c105b735",
   "metadata": {},
   "outputs": [
    {
     "name": "stdout",
     "output_type": "stream",
     "text": [
      "object\n"
     ]
    }
   ],
   "source": [
    "print(merged_df['support'].dtype)"
   ]
  },
  {
   "cell_type": "code",
   "execution_count": 21,
   "id": "4f7d2087-d793-40db-a29b-7aa7fd780de7",
   "metadata": {},
   "outputs": [
    {
     "name": "stdout",
     "output_type": "stream",
     "text": [
      "                             Description  count  support  confidence  \\\n",
      "0               JAM MAKING SET WITH JARS   1142   0.0551  100.000000   \n",
      "1                 JAM MAKING SET PRINTED    476   0.0564   41.681261   \n",
      "2      SET OF 3 CAKE TINS PANTRY DESIGN     382   0.0675   33.450088   \n",
      "3        RECIPE BOX PANTRY YELLOW DESIGN    339   0.0547   29.684764   \n",
      "4           SET OF 4 PANTRY JELLY MOULDS    318   0.0532   27.845884   \n",
      "...                                  ...    ...      ...         ...   \n",
      "3473     PINK HANGING GINGHAM EASTER HEN      1   0.0002    0.087566   \n",
      "3474        WHITE BIRD GARDEN DESIGN MUG      1   0.0001    0.087566   \n",
      "3475          CHRYSANTHEMUM POCKET BOOK       1   0.0010    0.087566   \n",
      "3476  WHITE CANDYSTUFT ARTIFICIAL FLOWER      1   0.0010    0.087566   \n",
      "3477  SET 10 CARD CHRISTMAS STAMPS 16963      1   0.0000    0.087566   \n",
      "\n",
      "             Lift  \n",
      "0     1814.882033  \n",
      "1      739.029449  \n",
      "2      495.556853  \n",
      "3      542.683063  \n",
      "4      523.418880  \n",
      "...           ...  \n",
      "3473   437.828371  \n",
      "3474   875.656743  \n",
      "3475    87.565674  \n",
      "3476    87.565674  \n",
      "3477          inf  \n",
      "\n",
      "[3478 rows x 5 columns]\n"
     ]
    }
   ],
   "source": [
    "\n",
    "merged_df['support'] = merged_df['support'].str.replace('%', '').astype(float)\n",
    "\n",
    "\n",
    "merged_df['support'] = merged_df['support'] / 100\n",
    "\n",
    "\n",
    "merged_df['Lift'] = merged_df['confidence'] / merged_df['support']\n",
    "\n",
    "\n",
    "print(merged_df)"
   ]
  },
  {
   "cell_type": "markdown",
   "id": "afa3a2df-d11e-4476-b064-ca41350a4551",
   "metadata": {},
   "source": [
    "####MÜŞTERİ ANALİZİ"
   ]
  },
  {
   "cell_type": "code",
   "execution_count": 22,
   "id": "fb3a6e5b-bcdf-4b27-ac11-7ef69a4f7a4c",
   "metadata": {},
   "outputs": [
    {
     "name": "stdout",
     "output_type": "stream",
     "text": [
      "            ID  Invoice StockCode                        Description  \\\n",
      "13         169   536385     22783   SET 3 WICKER OVAL BASKETS W LIDS   \n",
      "132        786   536464    90059C  DIAMANTE HAIR GRIP PACK/2 MONTANA   \n",
      "133        787   536464    90200C           BLUE SWEETHEART BRACELET   \n",
      "134        789   536464    90200A         PURPLE SWEETHEART BRACELET   \n",
      "135        790   536464     22386            JUMBO BAG PINK POLKADOT   \n",
      "...        ...      ...       ...                                ...   \n",
      "531036  304654   563590     22969       HOMEMADE JAM SCENTED CANDLES   \n",
      "531117  111528   545748     22492            MINI PAINT SET VINTAGE    \n",
      "531231  534953   581175     23084                 RABBIT NIGHT LIGHT   \n",
      "531236  223447   556484     22920                  HERB MARKER BASIL   \n",
      "531278  421633   573008     84077  WORLD WAR 2 GLIDERS ASSTD DESIGNS   \n",
      "\n",
      "        Quantity         InvoiceDate  Price  Customer ID         Country  \\\n",
      "13             1 2010-12-01 09:56:00  19.95      17420.0  United Kingdom   \n",
      "132            1 2010-12-01 12:23:00   1.65      17968.0  United Kingdom   \n",
      "133            1 2010-12-01 12:23:00   4.25      17968.0  United Kingdom   \n",
      "134            1 2010-12-01 12:23:00   4.25      17968.0  United Kingdom   \n",
      "135            1 2010-12-01 12:23:00   1.95      17968.0  United Kingdom   \n",
      "...          ...                 ...    ...          ...             ...   \n",
      "531036       696 2011-08-17 20:02:00   1.70      17450.0  United Kingdom   \n",
      "531117       864 2011-03-07 11:52:00   0.55      17381.0  United Kingdom   \n",
      "531231      1440 2011-12-07 15:16:00   1.79      14646.0     Netherlands   \n",
      "531236      1515 2011-06-12 13:17:00   0.55      16938.0  United Kingdom   \n",
      "531278      4800 2011-10-27 12:26:00   0.21      12901.0  United Kingdom   \n",
      "\n",
      "       hedef_sepet   Amount  \n",
      "13          target    19.95  \n",
      "132         target     1.65  \n",
      "133         target     4.25  \n",
      "134         target     4.25  \n",
      "135         target     1.95  \n",
      "...            ...      ...  \n",
      "531036      target  1183.20  \n",
      "531117      target   475.20  \n",
      "531231      target  2577.60  \n",
      "531236      target   833.25  \n",
      "531278      target  1008.00  \n",
      "\n",
      "[106027 rows x 11 columns]\n"
     ]
    },
    {
     "name": "stderr",
     "output_type": "stream",
     "text": [
      "C:\\Users\\asus\\AppData\\Local\\Temp\\ipykernel_23740\\3415924088.py:2: SettingWithCopyWarning: \n",
      "A value is trying to be set on a copy of a slice from a DataFrame.\n",
      "Try using .loc[row_indexer,col_indexer] = value instead\n",
      "\n",
      "See the caveats in the documentation: https://pandas.pydata.org/pandas-docs/stable/user_guide/indexing.html#returning-a-view-versus-a-copy\n",
      "  df_copy.loc[:, 'Amount'] = df_copy.loc[:, 'Price'] * df_copy.loc[:, 'Quantity']\n"
     ]
    }
   ],
   "source": [
    "\n",
    "df_copy.loc[:, 'Amount'] = df_copy.loc[:, 'Price'] * df_copy.loc[:, 'Quantity']\n",
    "\n",
    "print(df_copy)"
   ]
  },
  {
   "cell_type": "code",
   "execution_count": 23,
   "id": "5f4a9177-d7e5-4675-9f4d-5beb5d816316",
   "metadata": {},
   "outputs": [],
   "source": [
    "#Today date 01.01.2012"
   ]
  },
  {
   "cell_type": "code",
   "execution_count": 24,
   "id": "d05ee11b-4e63-4945-ad8d-d41c4d4a83e5",
   "metadata": {},
   "outputs": [
    {
     "name": "stdout",
     "output_type": "stream",
     "text": [
      "               InvoiceDate  DaysDifference\n",
      "13     2010-12-01 09:56:00             395\n",
      "132    2010-12-01 12:23:00             395\n",
      "133    2010-12-01 12:23:00             395\n",
      "134    2010-12-01 12:23:00             395\n",
      "135    2010-12-01 12:23:00             395\n",
      "...                    ...             ...\n",
      "531036 2011-08-17 20:02:00             136\n",
      "531117 2011-03-07 11:52:00             299\n",
      "531231 2011-12-07 15:16:00              24\n",
      "531236 2011-06-12 13:17:00             202\n",
      "531278 2011-10-27 12:26:00              65\n",
      "\n",
      "[106027 rows x 2 columns]\n"
     ]
    },
    {
     "name": "stderr",
     "output_type": "stream",
     "text": [
      "C:\\Users\\asus\\AppData\\Local\\Temp\\ipykernel_23740\\2295613882.py:2: SettingWithCopyWarning: \n",
      "A value is trying to be set on a copy of a slice from a DataFrame.\n",
      "Try using .loc[row_indexer,col_indexer] = value instead\n",
      "\n",
      "See the caveats in the documentation: https://pandas.pydata.org/pandas-docs/stable/user_guide/indexing.html#returning-a-view-versus-a-copy\n",
      "  df_copy['InvoiceDate'] = pd.to_datetime(df['InvoiceDate'])\n",
      "C:\\Users\\asus\\AppData\\Local\\Temp\\ipykernel_23740\\2295613882.py:3: SettingWithCopyWarning: \n",
      "A value is trying to be set on a copy of a slice from a DataFrame.\n",
      "Try using .loc[row_indexer,col_indexer] = value instead\n",
      "\n",
      "See the caveats in the documentation: https://pandas.pydata.org/pandas-docs/stable/user_guide/indexing.html#returning-a-view-versus-a-copy\n",
      "  df_copy['DaysDifference'] = (reference_date - df_copy['InvoiceDate']).dt.days\n"
     ]
    }
   ],
   "source": [
    "reference_date = pd.to_datetime('2012-01-01')\n",
    "df_copy['InvoiceDate'] = pd.to_datetime(df['InvoiceDate'])\n",
    "df_copy['DaysDifference'] = (reference_date - df_copy['InvoiceDate']).dt.days\n",
    "print(df_copy[['InvoiceDate', 'DaysDifference']])"
   ]
  },
  {
   "cell_type": "code",
   "execution_count": 27,
   "id": "adafc747-db83-44f5-b900-44111c9d43a5",
   "metadata": {},
   "outputs": [
    {
     "data": {
      "text/plain": [
       "13     19.95\n",
       "132     1.65\n",
       "133     4.25\n",
       "134     4.25\n",
       "135     1.95\n",
       "Name: Amount, dtype: float64"
      ]
     },
     "execution_count": 27,
     "metadata": {},
     "output_type": "execute_result"
    }
   ],
   "source": [
    "\n",
    "df_copy.loc[:, 'Amount'] = df_copy.loc[:, 'Price'] * df_copy.loc[:, 'Quantity']\n",
    "df_copy['Amount'].head()"
   ]
  },
  {
   "cell_type": "code",
   "execution_count": 33,
   "id": "72e8d410-f5f7-4169-9ffd-059a9109b2d0",
   "metadata": {},
   "outputs": [
    {
     "name": "stdout",
     "output_type": "stream",
     "text": [
      "            ID  Invoice StockCode                     Description  Quantity  \\\n",
      "379715  116004   546172     21929  JUMBO BAG PINK VINTAGE PAISLEY        10   \n",
      "166101  115996   546172     22625              RED KITCHEN SCALES         2   \n",
      "528067  326182   565475     21787           RAIN PONCHO RETROSPOT       144   \n",
      "521434  326135   565475     47566                   PARTY BUNTING        72   \n",
      "521200  269345   560445     47566                   PARTY BUNTING        72   \n",
      "\n",
      "               InvoiceDate  Price  Customer ID Country hedef_sepet  Amount  \\\n",
      "379715 2011-03-10 10:32:00   1.95      14156.0    EIRE      target    19.5   \n",
      "166101 2011-03-10 10:32:00   8.50      14156.0    EIRE      target    17.0   \n",
      "528067 2011-09-05 10:47:00   0.65      14156.0    EIRE      target    93.6   \n",
      "521434 2011-09-05 10:47:00   4.15      14156.0    EIRE      target   298.8   \n",
      "521200 2011-07-19 09:08:00   4.15      14156.0    EIRE      target   298.8   \n",
      "\n",
      "        DaysDifference  monetary  \n",
      "379715             296  55526.28  \n",
      "166101             296  55526.28  \n",
      "528067             117  55526.28  \n",
      "521434             117  55526.28  \n",
      "521200             165  55526.28  \n"
     ]
    }
   ],
   "source": [
    "\n",
    "df_copy.loc[:, 'monetary'] = df_copy.groupby('Customer ID')['Amount'].transform('sum')\n",
    "\n",
    "\n",
    "print(df_copy.head())\n",
    "\n"
   ]
  },
  {
   "cell_type": "code",
   "execution_count": 54,
   "id": "3bb46c65-d70d-4077-a440-9a4a13091624",
   "metadata": {},
   "outputs": [
    {
     "name": "stdout",
     "output_type": "stream",
     "text": [
      "       ID  Invoice StockCode                     Description  Quantity  \\\n",
      "0  116004   546172     21929  JUMBO BAG PINK VINTAGE PAISLEY        10   \n",
      "1  115996   546172     22625              RED KITCHEN SCALES         2   \n",
      "2  326182   565475     21787           RAIN PONCHO RETROSPOT       144   \n",
      "3  326135   565475     47566                   PARTY BUNTING        72   \n",
      "4  269345   560445     47566                   PARTY BUNTING        72   \n",
      "\n",
      "          InvoiceDate  Price  Customer ID Country hedef_sepet  Amount  \\\n",
      "0 2011-03-10 10:32:00   1.95      14156.0    EIRE      target    19.5   \n",
      "1 2011-03-10 10:32:00   8.50      14156.0    EIRE      target    17.0   \n",
      "2 2011-09-05 10:47:00   0.65      14156.0    EIRE      target    93.6   \n",
      "3 2011-09-05 10:47:00   4.15      14156.0    EIRE      target   298.8   \n",
      "4 2011-07-19 09:08:00   4.15      14156.0    EIRE      target   298.8   \n",
      "\n",
      "   DaysDifference  monetary  Frequency_x  Frequency_y  Frequency  \n",
      "0             296  55526.28          8.0          8.0        8.0  \n",
      "1             296  55526.28          8.0          8.0        8.0  \n",
      "2             117  55526.28          8.0          8.0        8.0  \n",
      "3             117  55526.28          8.0          8.0        8.0  \n",
      "4             165  55526.28          8.0          8.0        8.0  \n"
     ]
    }
   ],
   "source": [
    "\n",
    "df_unique_invoices = df_copy.drop_duplicates(subset=['Customer ID', 'Invoice'])\n",
    "\n",
    "df_frequency = df_unique_invoices.groupby('Customer ID').agg({'Invoice': 'count'}).reset_index()\n",
    "\n",
    "df_frequency.columns = ['Customer ID', 'Frequency']\n",
    "\n",
    "if 'Frequency' in df_copy.columns:\n",
    "    df_copy = df_copy.drop(columns=['Frequency'])\n",
    "\n",
    "df_copy = df_copy.merge(df_frequency, on='Customer ID', how='left')\n",
    "\n",
    "print(df_copy.head())\n",
    "\n"
   ]
  },
  {
   "cell_type": "code",
   "execution_count": 56,
   "id": "cc770288-fbf7-4eb3-995a-ad9d38bfc0ce",
   "metadata": {},
   "outputs": [
    {
     "name": "stdout",
     "output_type": "stream",
     "text": [
      "       ID  Invoice StockCode                     Description  Quantity  \\\n",
      "0  116004   546172     21929  JUMBO BAG PINK VINTAGE PAISLEY        10   \n",
      "1  115996   546172     22625              RED KITCHEN SCALES         2   \n",
      "2  326182   565475     21787           RAIN PONCHO RETROSPOT       144   \n",
      "3  326135   565475     47566                   PARTY BUNTING        72   \n",
      "4  269345   560445     47566                   PARTY BUNTING        72   \n",
      "\n",
      "          InvoiceDate  Price  Customer ID Country hedef_sepet  Amount  \\\n",
      "0 2011-03-10 10:32:00   1.95      14156.0    EIRE      target    19.5   \n",
      "1 2011-03-10 10:32:00   8.50      14156.0    EIRE      target    17.0   \n",
      "2 2011-09-05 10:47:00   0.65      14156.0    EIRE      target    93.6   \n",
      "3 2011-09-05 10:47:00   4.15      14156.0    EIRE      target   298.8   \n",
      "4 2011-07-19 09:08:00   4.15      14156.0    EIRE      target   298.8   \n",
      "\n",
      "   DaysDifference  monetary  Frequency_x  Frequency_y  Frequency  Recency  \\\n",
      "0             296  55526.28          8.0          8.0        8.0     45.0   \n",
      "1             296  55526.28          8.0          8.0        8.0     45.0   \n",
      "2             117  55526.28          8.0          8.0        8.0     45.0   \n",
      "3             117  55526.28          8.0          8.0        8.0     45.0   \n",
      "4             165  55526.28          8.0          8.0        8.0     45.0   \n",
      "\n",
      "   Tenure  \n",
      "0   351.0  \n",
      "1   351.0  \n",
      "2   351.0  \n",
      "3   351.0  \n",
      "4   351.0  \n"
     ]
    }
   ],
   "source": [
    "\n",
    "df_recency = df_copy.groupby('Customer ID')['DaysDifference'].min().reset_index()\n",
    "df_recency.columns = ['Customer ID', 'Recency']\n",
    "\n",
    "df_tenure = df_copy.groupby('Customer ID')['DaysDifference'].max().reset_index()\n",
    "df_tenure.columns = ['Customer ID', 'Tenure']\n",
    "\n",
    "df_copy = df_copy.merge(df_recency, on='Customer ID', how='left')\n",
    "df_copy = df_copy.merge(df_tenure, on='Customer ID', how='left')\n",
    "\n",
    "print(df_copy.head())\n",
    "\n"
   ]
  },
  {
   "cell_type": "code",
   "execution_count": 57,
   "id": "90023c22-32ab-4776-b74c-62880608c9e6",
   "metadata": {},
   "outputs": [
    {
     "name": "stdout",
     "output_type": "stream",
     "text": [
      "   Customer ID  Recency  Frequency  monetary\n",
      "0      14156.0     45.0        8.0  55526.28\n",
      "1      14156.0     45.0        8.0  55526.28\n",
      "2      14156.0     45.0        8.0  55526.28\n",
      "3      14156.0     45.0        8.0  55526.28\n",
      "4      14156.0     45.0        8.0  55526.28\n"
     ]
    }
   ],
   "source": [
    "basketsize = df_copy[['Customer ID', 'Recency', 'Frequency', 'monetary']]\n",
    "\n",
    "print(basketsize.head())\n"
   ]
  },
  {
   "cell_type": "code",
   "execution_count": 60,
   "id": "7386c7dc-c20e-4bd2-a920-075f1dc0b975",
   "metadata": {},
   "outputs": [
    {
     "name": "stdout",
     "output_type": "stream",
     "text": [
      "   Customer ID  Recency  Frequency  monetary  Basket_Size\n",
      "0      14156.0     45.0        8.0  55526.28     6940.785\n",
      "1      14156.0     45.0        8.0  55526.28     6940.785\n",
      "2      14156.0     45.0        8.0  55526.28     6940.785\n",
      "3      14156.0     45.0        8.0  55526.28     6940.785\n",
      "4      14156.0     45.0        8.0  55526.28     6940.785\n"
     ]
    }
   ],
   "source": [
    "basketsize.loc[:, 'Basket_Size'] = basketsize['monetary'] / basketsize['Frequency']\n",
    "\n",
    "print(basketsize.head())\n"
   ]
  },
  {
   "cell_type": "code",
   "execution_count": 83,
   "id": "8c1ea5ff-5b1e-4ab8-a48e-f0d141b0064a",
   "metadata": {},
   "outputs": [
    {
     "name": "stdout",
     "output_type": "stream",
     "text": [
      "      Customer ID  Recency  Frequency  monetary   Basket_Size R_Score\n",
      "0         14156.0     45.0        8.0  55526.28   6940.785000       5\n",
      "282       14096.0     26.0       10.0  54798.10   5479.810000       5\n",
      "4330      14646.0     24.0        8.0  54044.05   6755.506250       5\n",
      "4812      12415.0    199.0        3.0  53525.69  17841.896667       3\n",
      "5101      14088.0     38.0        4.0  27832.09   6958.022500       5\n",
      "      Customer ID  Recency  Frequency  monetary   Basket_Size R_Score\n",
      "0         14156.0     45.0        8.0  55526.28   6940.785000       5\n",
      "282       14096.0     26.0       10.0  54798.10   5479.810000       5\n",
      "4330      14646.0     24.0        8.0  54044.05   6755.506250       5\n",
      "4812      12415.0    199.0        3.0  53525.69  17841.896667       3\n",
      "5101      14088.0     38.0        4.0  27832.09   6958.022500       5\n"
     ]
    }
   ],
   "source": [
    "basketsize = basketsize.drop_duplicates(subset=['Customer ID'])\n",
    "print(basketsize.head())\n",
    "\n"
   ]
  },
  {
   "cell_type": "code",
   "execution_count": 84,
   "id": "b9396836-4bee-42af-8481-4480804c6da8",
   "metadata": {},
   "outputs": [
    {
     "name": "stdout",
     "output_type": "stream",
     "text": [
      "      Customer ID  Recency  Frequency  monetary  Basket_Size R_Score\n",
      "5647      14911.0     23.0       22.0  22034.24  1001.556364       5\n",
      "282       14096.0     26.0       10.0  54798.10  5479.810000       5\n",
      "8577      13319.0     51.0        9.0   5640.72   626.746667       5\n",
      "0         14156.0     45.0        8.0  55526.28  6940.785000       5\n",
      "4330      14646.0     24.0        8.0  54044.05  6755.506250       5\n"
     ]
    }
   ],
   "source": [
    "basketsize= basketsize.sort_values(by='Frequency', ascending=False)\n",
    "\n",
    "print(basketsize.head())"
   ]
  },
  {
   "cell_type": "code",
   "execution_count": 93,
   "id": "05427b56-64b1-4912-842f-4defd16bf3dd",
   "metadata": {},
   "outputs": [
    {
     "name": "stdout",
     "output_type": "stream",
     "text": [
      "      Customer ID  Frequency F_Score\n",
      "5647      14911.0       22.0       5\n",
      "282       14096.0       10.0       5\n",
      "8577      13319.0        9.0       5\n",
      "0         14156.0        8.0       4\n",
      "4330      14646.0        8.0       4\n"
     ]
    }
   ],
   "source": [
    "basketsize['F_Score'] = pd.cut(basketsize[\"Frequency\"],\n",
    "                              bins=[0,3,5,7,9,25], \n",
    "                              labels=[1, 2, 3, 4, 5],      \n",
    "                              right=False)  \n",
    "\n",
    "print(basketsize[['Customer ID', 'Frequency', 'F_Score']].head())\n",
    "\n"
   ]
  },
  {
   "cell_type": "code",
   "execution_count": 97,
   "id": "6e10f745-eae1-46ab-a6e7-916eba6fe762",
   "metadata": {},
   "outputs": [
    {
     "name": "stdout",
     "output_type": "stream",
     "text": [
      "      Customer ID R_Score F_Score\n",
      "5647      14911.0       5       5\n",
      "282       14096.0       5       5\n",
      "8577      13319.0       5       5\n",
      "0         14156.0       5       4\n",
      "4330      14646.0       5       4\n"
     ]
    }
   ],
   "source": [
    "RF_SEGMENT=basketsize[['Customer ID', 'R_Score', 'F_Score']]\n",
    "print(RF_SEGMENT.head())\n"
   ]
  },
  {
   "cell_type": "code",
   "execution_count": 98,
   "id": "587544db-a60c-4af1-9b8f-f25062bf45c2",
   "metadata": {},
   "outputs": [
    {
     "name": "stdout",
     "output_type": "stream",
     "text": [
      "      Customer ID R_Score F_Score RF_Score\n",
      "5647      14911.0       5       5       55\n",
      "282       14096.0       5       5       55\n",
      "8577      13319.0       5       5       55\n",
      "0         14156.0       5       4       54\n",
      "4330      14646.0       5       4       54\n"
     ]
    },
    {
     "name": "stderr",
     "output_type": "stream",
     "text": [
      "C:\\Users\\asus\\AppData\\Local\\Temp\\ipykernel_23740\\2280926045.py:2: SettingWithCopyWarning: \n",
      "A value is trying to be set on a copy of a slice from a DataFrame.\n",
      "Try using .loc[row_indexer,col_indexer] = value instead\n",
      "\n",
      "See the caveats in the documentation: https://pandas.pydata.org/pandas-docs/stable/user_guide/indexing.html#returning-a-view-versus-a-copy\n",
      "  RF_SEGMENT.loc[:, 'RF_Score'] = basketsize['R_Score'].astype(str) + basketsize['F_Score'].astype(str)\n"
     ]
    }
   ],
   "source": [
    "\n",
    "RF_SEGMENT.loc[:, 'RF_Score'] = basketsize['R_Score'].astype(str) + basketsize['F_Score'].astype(str)\n",
    "\n",
    "# Sonuçları görelim\n",
    "print(RF_SEGMENT[['Customer ID', 'R_Score', 'F_Score', 'RF_Score']].head())\n",
    "\n",
    "\n"
   ]
  },
  {
   "cell_type": "code",
   "execution_count": 104,
   "id": "7d4846a5-c3d1-4d8a-b4dc-f93cead1fa92",
   "metadata": {},
   "outputs": [
    {
     "name": "stdout",
     "output_type": "stream",
     "text": [
      "      Customer ID R_Score F_Score Segment_name\n",
      "5647      14911.0       5       5    champions\n",
      "282       14096.0       5       5    champions\n",
      "8577      13319.0       5       5    champions\n",
      "0         14156.0       5       4    champions\n",
      "4330      14646.0       5       4    champions\n"
     ]
    }
   ],
   "source": [
    "\n",
    "def Segment_name(row):\n",
    "    r = row['R_Score']\n",
    "    f = row['F_Score']\n",
    "    \n",
    "    if r == 5 and f == 5:\n",
    "        return 'champions'\n",
    "    elif r == 5 and f == 4:\n",
    "        return 'champions'\n",
    "    elif r == 5 and f == 3:\n",
    "        return 'potential loyalists'\n",
    "    elif r == 5 and f == 2:\n",
    "        return 'potential loyalists'\n",
    "    elif r == 5 and f == 1:\n",
    "        return 'about to sleep'      \n",
    "    elif r == 3 and f == 5:\n",
    "        return 'loyal customers'\n",
    "    elif r == 4 and f == 4:\n",
    "        return 'loyal customers'\n",
    "    elif r == 3 and f == 4:\n",
    "        return 'loyal customers'\n",
    "    elif r == 4 and f == 3:\n",
    "        return 'potential loyalists'\n",
    "    elif r == 4 and f == 1:\n",
    "        return 'promissing'\n",
    "    elif r == 4 and f == 2:\n",
    "        return 'potential loyalists'    \n",
    "    elif r == 5 and f == 2:\n",
    "        return 'promissing'    \n",
    "    elif r == 2 and f == 3:\n",
    "        return 'at risk'\n",
    "    elif r == 2 and f == 4:\n",
    "        return 'at risk'    \n",
    "    elif r == 1 and f == 5:\n",
    "        return 'can’t loose them'\n",
    "    elif r == 1 and f == 1:\n",
    "        return 'hibernating'\n",
    "    elif r == 5 and f == 1:\n",
    "        return 'new customers'\n",
    "    elif r == 3 and f == 3:\n",
    "        return 'need attention'\n",
    "    elif r == 3 and f == 2:\n",
    "        return 'about to sleep'\n",
    "    elif r == 2 and f == 5:\n",
    "        return 'cant loose them'    \n",
    "    else:\n",
    "        return 'other'\n",
    "\n",
    "\n",
    "RF_SEGMENT.loc[:, 'Segment_name'] = RF_SEGMENT.apply(Segment_name, axis=1)\n",
    "\n",
    "\n",
    "print(RF_SEGMENT[['Customer ID', 'R_Score', 'F_Score', 'Segment_name']].head())\n",
    "\n",
    "\n"
   ]
  },
  {
   "cell_type": "code",
   "execution_count": 107,
   "id": "7890b5ac-cac8-46d2-b5bb-6c34c97830bf",
   "metadata": {},
   "outputs": [
    {
     "data": {
      "image/png": "[encoded data removed]",
      "text/plain": [
       "<Figure size 1000x600 with 1 Axes>"
      ]
     },
     "metadata": {},
     "output_type": "display_data"
    }
   ],
   "source": [
    "import seaborn as sns\n",
    "import matplotlib.pyplot as plt\n",
    "\n",
    "plt.figure(figsize=(10, 6))\n",
    "sns.scatterplot(data=RF_SEGMENT, x='R_Score', y='F_Score', hue='Segment_name', palette='tab10')\n",
    "plt.title('RFM Segmentasyon Sonuçları')\n",
    "plt.show()\n"
   ]
  },
  {
   "cell_type": "code",
   "execution_count": 108,
   "id": "2281211e-f9f7-4851-9830-8e5068ebc4c4",
   "metadata": {},
   "outputs": [
    {
     "data": {
      "image/png": "[encoded data removed]",
      "text/plain": [
       "<Figure size 1000x800 with 1 Axes>"
      ]
     },
     "metadata": {},
     "output_type": "display_data"
    }
   ],
   "source": [
    "from mpl_toolkits.mplot3d import Axes3D\n",
    "\n",
    "fig = plt.figure(figsize=(10, 8))\n",
    "ax = fig.add_subplot(111, projection='3d')\n",
    "\n",
    "ax.scatter(basketsize['Recency'], basketsize['Frequency'], basketsize['monetary'], c=RF_SEGMENT['Segment_name'].astype('category').cat.codes, cmap='tab10')\n",
    "ax.set_xlabel('Recency')\n",
    "ax.set_ylabel('Frequency')\n",
    "ax.set_zlabel('Monetary')\n",
    "\n",
    "plt.title('3D Scatter Plot ile Müşteri Segmentasyonu')\n",
    "plt.show()\n"
   ]
  },
  {
   "cell_type": "code",
   "execution_count": null,
   "id": "b8dff6e7-becc-4a43-80c1-ce40956cadd3",
   "metadata": {},
   "outputs": [],
   "source": []
  }
 ],
 "metadata": {
  "kernelspec": {
   "display_name": "Python 3 (ipykernel)",
   "language": "python",
   "name": "python3"
  },
  "language_info": {
   "codemirror_mode": {
    "name": "ipython",
    "version": 3
   },
   "file_extension": ".py",
   "mimetype": "text/x-python",
   "name": "python",
   "nbconvert_exporter": "python",
   "pygments_lexer": "ipython3",
   "version": "3.12.4"
  }
 },
 "nbformat": 4,
 "nbformat_minor": 5
}
